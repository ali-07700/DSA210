{
  "nbformat": 4,
  "nbformat_minor": 0,
  "metadata": {
    "colab": {
      "provenance": []
    },
    "kernelspec": {
      "name": "python3",
      "display_name": "Python 3"
    },
    "language_info": {
      "name": "python"
    }
  },
  "cells": [
    {
      "cell_type": "markdown",
      "source": [
        "This is a code for taking matches of the winners of the tournaments for each year with new csv. It is just beginning part of the code it will get updated.\n"
      ],
      "metadata": {
        "id": "aT40gJJ9kpgj"
      }
    },
    {
      "cell_type": "code",
      "execution_count": 33,
      "metadata": {
        "colab": {
          "base_uri": "https://localhost:8080/",
          "height": 51
        },
        "id": "-NFeQkegX6zO",
        "outputId": "e3a68653-56d9-47bd-9992-3593e0687c72"
      },
      "outputs": [
        {
          "name": "stdout",
          "output_type": "stream",
          "text": [
            "Enter the name of the csv\n",
            "2024\n"
          ]
        },
        {
          "output_type": "display_data",
          "data": {
            "text/plain": [
              "<IPython.core.display.Javascript object>"
            ],
            "application/javascript": [
              "\n",
              "    async function download(id, filename, size) {\n",
              "      if (!google.colab.kernel.accessAllowed) {\n",
              "        return;\n",
              "      }\n",
              "      const div = document.createElement('div');\n",
              "      const label = document.createElement('label');\n",
              "      label.textContent = `Downloading \"${filename}\": `;\n",
              "      div.appendChild(label);\n",
              "      const progress = document.createElement('progress');\n",
              "      progress.max = size;\n",
              "      div.appendChild(progress);\n",
              "      document.body.appendChild(div);\n",
              "\n",
              "      const buffers = [];\n",
              "      let downloaded = 0;\n",
              "\n",
              "      const channel = await google.colab.kernel.comms.open(id);\n",
              "      // Send a message to notify the kernel that we're ready.\n",
              "      channel.send({})\n",
              "\n",
              "      for await (const message of channel.messages) {\n",
              "        // Send a message to notify the kernel that we're ready.\n",
              "        channel.send({})\n",
              "        if (message.buffers) {\n",
              "          for (const buffer of message.buffers) {\n",
              "            buffers.push(buffer);\n",
              "            downloaded += buffer.byteLength;\n",
              "            progress.value = downloaded;\n",
              "          }\n",
              "        }\n",
              "      }\n",
              "      const blob = new Blob(buffers, {type: 'application/binary'});\n",
              "      const a = document.createElement('a');\n",
              "      a.href = window.URL.createObjectURL(blob);\n",
              "      a.download = filename;\n",
              "      div.appendChild(a);\n",
              "      a.click();\n",
              "      div.remove();\n",
              "    }\n",
              "  "
            ]
          },
          "metadata": {}
        },
        {
          "output_type": "display_data",
          "data": {
            "text/plain": [
              "<IPython.core.display.Javascript object>"
            ],
            "application/javascript": [
              "download(\"download_2ddb5a1e-bcd8-4d0e-a2ea-ff93ebf57b2d\", \"updated_atp_matches_2024.csv\", 39766)"
            ]
          },
          "metadata": {}
        }
      ],
      "source": [
        "from google.colab import files\n",
        "import pandas as pd\n",
        "print(\"Enter the name of the csv\")\n",
        "input_file = input()\n",
        "df = pd.read_csv('atp_matches_'+input_file+'.csv')\n",
        "filtered_file = df[~df['tourney_name'].str.contains('Davis')]\n",
        "filtered_file = filtered_file[~filtered_file['tourney_name'].str.contains('Dusseldorf')]\n",
        "tournaments = [i for i in filtered_file['tourney_name'].unique()]\n",
        "\n",
        "\n",
        "tournament_winners = {}\n",
        "for tournament in tournaments:\n",
        "\n",
        "    tournament_matches = filtered_file[filtered_file['tourney_name'] == tournament]\n",
        "\n",
        "    win_counts = tournament_matches['winner_name'].value_counts()\n",
        "\n",
        "    winner = win_counts.index[0]\n",
        "\n",
        "    tournament_winners[tournament] = winner\n",
        "\n",
        "winners_df = pd.DataFrame(list(tournament_winners.items()), columns=['tourney_name', 'winner_name'])\n",
        "merged_df = pd.merge(filtered_file, winners_df, on=['tourney_name', 'winner_name'])\n",
        "\n",
        "merged_df.to_csv('updated_atp_matches_'+input_file+'.csv', index=False)\n",
        "files.download('updated_atp_matches_'+input_file+'.csv')"
      ]
    }
  ]
}
